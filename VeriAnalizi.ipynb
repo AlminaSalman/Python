{
  "nbformat": 4,
  "nbformat_minor": 0,
  "metadata": {
    "colab": {
      "name": "VeriAnalizi.ipynb",
      "provenance": [],
      "authorship_tag": "ABX9TyMQsTaatvrZSLoCdwiYoUBr",
      "include_colab_link": true
    },
    "kernelspec": {
      "name": "python3",
      "display_name": "Python 3"
    }
  },
  "cells": [
    {
      "cell_type": "markdown",
      "metadata": {
        "id": "view-in-github",
        "colab_type": "text"
      },
      "source": [
        "<a href=\"https://colab.research.google.com/github/AlminaSalman/Python/blob/main/VeriAnalizi.ipynb\" target=\"_parent\"><img src=\"https://colab.research.google.com/assets/colab-badge.svg\" alt=\"Open In Colab\"/></a>"
      ]
    },
    {
      "cell_type": "code",
      "metadata": {
        "id": "zTV4mZyl0vxO"
      },
      "source": [
        "import pandas as pd\r\n",
        "import numpy as np"
      ],
      "execution_count": 5,
      "outputs": []
    },
    {
      "cell_type": "code",
      "metadata": {
        "id": "B-dhtFXYvVNo"
      },
      "source": [
        "path='/content/veriler.csv'\r\n",
        "df= pd.read_csv(path)"
      ],
      "execution_count": 7,
      "outputs": []
    },
    {
      "cell_type": "code",
      "metadata": {
        "colab": {
          "base_uri": "https://localhost:8080/",
          "height": 731
        },
        "id": "UpotV5p2vkif",
        "outputId": "a4d8e070-dd2d-4f19-f288-eed210d22658"
      },
      "source": [
        "df"
      ],
      "execution_count": 8,
      "outputs": [
        {
          "output_type": "execute_result",
          "data": {
            "text/html": [
              "<div>\n",
              "<style scoped>\n",
              "    .dataframe tbody tr th:only-of-type {\n",
              "        vertical-align: middle;\n",
              "    }\n",
              "\n",
              "    .dataframe tbody tr th {\n",
              "        vertical-align: top;\n",
              "    }\n",
              "\n",
              "    .dataframe thead th {\n",
              "        text-align: right;\n",
              "    }\n",
              "</style>\n",
              "<table border=\"1\" class=\"dataframe\">\n",
              "  <thead>\n",
              "    <tr style=\"text-align: right;\">\n",
              "      <th></th>\n",
              "      <th>ulke</th>\n",
              "      <th>boy</th>\n",
              "      <th>kilo</th>\n",
              "      <th>yas</th>\n",
              "      <th>cinsiyet</th>\n",
              "    </tr>\n",
              "  </thead>\n",
              "  <tbody>\n",
              "    <tr>\n",
              "      <th>0</th>\n",
              "      <td>tr</td>\n",
              "      <td>130</td>\n",
              "      <td>30</td>\n",
              "      <td>10</td>\n",
              "      <td>e</td>\n",
              "    </tr>\n",
              "    <tr>\n",
              "      <th>1</th>\n",
              "      <td>tr</td>\n",
              "      <td>125</td>\n",
              "      <td>36</td>\n",
              "      <td>11</td>\n",
              "      <td>e</td>\n",
              "    </tr>\n",
              "    <tr>\n",
              "      <th>2</th>\n",
              "      <td>tr</td>\n",
              "      <td>135</td>\n",
              "      <td>34</td>\n",
              "      <td>10</td>\n",
              "      <td>k</td>\n",
              "    </tr>\n",
              "    <tr>\n",
              "      <th>3</th>\n",
              "      <td>tr</td>\n",
              "      <td>133</td>\n",
              "      <td>30</td>\n",
              "      <td>9</td>\n",
              "      <td>k</td>\n",
              "    </tr>\n",
              "    <tr>\n",
              "      <th>4</th>\n",
              "      <td>tr</td>\n",
              "      <td>129</td>\n",
              "      <td>38</td>\n",
              "      <td>12</td>\n",
              "      <td>e</td>\n",
              "    </tr>\n",
              "    <tr>\n",
              "      <th>5</th>\n",
              "      <td>tr</td>\n",
              "      <td>180</td>\n",
              "      <td>90</td>\n",
              "      <td>30</td>\n",
              "      <td>e</td>\n",
              "    </tr>\n",
              "    <tr>\n",
              "      <th>6</th>\n",
              "      <td>tr</td>\n",
              "      <td>190</td>\n",
              "      <td>80</td>\n",
              "      <td>25</td>\n",
              "      <td>e</td>\n",
              "    </tr>\n",
              "    <tr>\n",
              "      <th>7</th>\n",
              "      <td>tr</td>\n",
              "      <td>175</td>\n",
              "      <td>90</td>\n",
              "      <td>35</td>\n",
              "      <td>e</td>\n",
              "    </tr>\n",
              "    <tr>\n",
              "      <th>8</th>\n",
              "      <td>tr</td>\n",
              "      <td>177</td>\n",
              "      <td>60</td>\n",
              "      <td>22</td>\n",
              "      <td>k</td>\n",
              "    </tr>\n",
              "    <tr>\n",
              "      <th>9</th>\n",
              "      <td>us</td>\n",
              "      <td>185</td>\n",
              "      <td>105</td>\n",
              "      <td>33</td>\n",
              "      <td>e</td>\n",
              "    </tr>\n",
              "    <tr>\n",
              "      <th>10</th>\n",
              "      <td>us</td>\n",
              "      <td>165</td>\n",
              "      <td>55</td>\n",
              "      <td>27</td>\n",
              "      <td>k</td>\n",
              "    </tr>\n",
              "    <tr>\n",
              "      <th>11</th>\n",
              "      <td>us</td>\n",
              "      <td>155</td>\n",
              "      <td>50</td>\n",
              "      <td>44</td>\n",
              "      <td>k</td>\n",
              "    </tr>\n",
              "    <tr>\n",
              "      <th>12</th>\n",
              "      <td>us</td>\n",
              "      <td>160</td>\n",
              "      <td>58</td>\n",
              "      <td>39</td>\n",
              "      <td>k</td>\n",
              "    </tr>\n",
              "    <tr>\n",
              "      <th>13</th>\n",
              "      <td>us</td>\n",
              "      <td>162</td>\n",
              "      <td>59</td>\n",
              "      <td>41</td>\n",
              "      <td>k</td>\n",
              "    </tr>\n",
              "    <tr>\n",
              "      <th>14</th>\n",
              "      <td>us</td>\n",
              "      <td>167</td>\n",
              "      <td>62</td>\n",
              "      <td>55</td>\n",
              "      <td>k</td>\n",
              "    </tr>\n",
              "    <tr>\n",
              "      <th>15</th>\n",
              "      <td>fr</td>\n",
              "      <td>174</td>\n",
              "      <td>70</td>\n",
              "      <td>47</td>\n",
              "      <td>e</td>\n",
              "    </tr>\n",
              "    <tr>\n",
              "      <th>16</th>\n",
              "      <td>fr</td>\n",
              "      <td>193</td>\n",
              "      <td>90</td>\n",
              "      <td>23</td>\n",
              "      <td>e</td>\n",
              "    </tr>\n",
              "    <tr>\n",
              "      <th>17</th>\n",
              "      <td>fr</td>\n",
              "      <td>187</td>\n",
              "      <td>80</td>\n",
              "      <td>27</td>\n",
              "      <td>e</td>\n",
              "    </tr>\n",
              "    <tr>\n",
              "      <th>18</th>\n",
              "      <td>fr</td>\n",
              "      <td>183</td>\n",
              "      <td>88</td>\n",
              "      <td>28</td>\n",
              "      <td>e</td>\n",
              "    </tr>\n",
              "    <tr>\n",
              "      <th>19</th>\n",
              "      <td>fr</td>\n",
              "      <td>159</td>\n",
              "      <td>40</td>\n",
              "      <td>29</td>\n",
              "      <td>k</td>\n",
              "    </tr>\n",
              "    <tr>\n",
              "      <th>20</th>\n",
              "      <td>fr</td>\n",
              "      <td>164</td>\n",
              "      <td>66</td>\n",
              "      <td>32</td>\n",
              "      <td>k</td>\n",
              "    </tr>\n",
              "    <tr>\n",
              "      <th>21</th>\n",
              "      <td>fr</td>\n",
              "      <td>166</td>\n",
              "      <td>56</td>\n",
              "      <td>42</td>\n",
              "      <td>k</td>\n",
              "    </tr>\n",
              "  </tbody>\n",
              "</table>\n",
              "</div>"
            ],
            "text/plain": [
              "   ulke  boy  kilo  yas cinsiyet\n",
              "0    tr  130    30   10        e\n",
              "1    tr  125    36   11        e\n",
              "2    tr  135    34   10        k\n",
              "3    tr  133    30    9        k\n",
              "4    tr  129    38   12        e\n",
              "5    tr  180    90   30        e\n",
              "6    tr  190    80   25        e\n",
              "7    tr  175    90   35        e\n",
              "8    tr  177    60   22        k\n",
              "9    us  185   105   33        e\n",
              "10   us  165    55   27        k\n",
              "11   us  155    50   44        k\n",
              "12   us  160    58   39        k\n",
              "13   us  162    59   41        k\n",
              "14   us  167    62   55        k\n",
              "15   fr  174    70   47        e\n",
              "16   fr  193    90   23        e\n",
              "17   fr  187    80   27        e\n",
              "18   fr  183    88   28        e\n",
              "19   fr  159    40   29        k\n",
              "20   fr  164    66   32        k\n",
              "21   fr  166    56   42        k"
            ]
          },
          "metadata": {
            "tags": []
          },
          "execution_count": 8
        }
      ]
    },
    {
      "cell_type": "code",
      "metadata": {
        "colab": {
          "base_uri": "https://localhost:8080/"
        },
        "id": "YW00u-G9vmfn",
        "outputId": "f14690ae-e923-4ffb-fee8-3b3aaa51ea3c"
      },
      "source": [
        "df.shape"
      ],
      "execution_count": 9,
      "outputs": [
        {
          "output_type": "execute_result",
          "data": {
            "text/plain": [
              "(22, 5)"
            ]
          },
          "metadata": {
            "tags": []
          },
          "execution_count": 9
        }
      ]
    },
    {
      "cell_type": "code",
      "metadata": {
        "colab": {
          "base_uri": "https://localhost:8080/",
          "height": 204
        },
        "id": "T39tVdiVv6X_",
        "outputId": "4b75c6c9-fdf5-44ff-e4df-3b65b0dc9157"
      },
      "source": [
        "df.head()"
      ],
      "execution_count": 10,
      "outputs": [
        {
          "output_type": "execute_result",
          "data": {
            "text/html": [
              "<div>\n",
              "<style scoped>\n",
              "    .dataframe tbody tr th:only-of-type {\n",
              "        vertical-align: middle;\n",
              "    }\n",
              "\n",
              "    .dataframe tbody tr th {\n",
              "        vertical-align: top;\n",
              "    }\n",
              "\n",
              "    .dataframe thead th {\n",
              "        text-align: right;\n",
              "    }\n",
              "</style>\n",
              "<table border=\"1\" class=\"dataframe\">\n",
              "  <thead>\n",
              "    <tr style=\"text-align: right;\">\n",
              "      <th></th>\n",
              "      <th>ulke</th>\n",
              "      <th>boy</th>\n",
              "      <th>kilo</th>\n",
              "      <th>yas</th>\n",
              "      <th>cinsiyet</th>\n",
              "    </tr>\n",
              "  </thead>\n",
              "  <tbody>\n",
              "    <tr>\n",
              "      <th>0</th>\n",
              "      <td>tr</td>\n",
              "      <td>130</td>\n",
              "      <td>30</td>\n",
              "      <td>10</td>\n",
              "      <td>e</td>\n",
              "    </tr>\n",
              "    <tr>\n",
              "      <th>1</th>\n",
              "      <td>tr</td>\n",
              "      <td>125</td>\n",
              "      <td>36</td>\n",
              "      <td>11</td>\n",
              "      <td>e</td>\n",
              "    </tr>\n",
              "    <tr>\n",
              "      <th>2</th>\n",
              "      <td>tr</td>\n",
              "      <td>135</td>\n",
              "      <td>34</td>\n",
              "      <td>10</td>\n",
              "      <td>k</td>\n",
              "    </tr>\n",
              "    <tr>\n",
              "      <th>3</th>\n",
              "      <td>tr</td>\n",
              "      <td>133</td>\n",
              "      <td>30</td>\n",
              "      <td>9</td>\n",
              "      <td>k</td>\n",
              "    </tr>\n",
              "    <tr>\n",
              "      <th>4</th>\n",
              "      <td>tr</td>\n",
              "      <td>129</td>\n",
              "      <td>38</td>\n",
              "      <td>12</td>\n",
              "      <td>e</td>\n",
              "    </tr>\n",
              "  </tbody>\n",
              "</table>\n",
              "</div>"
            ],
            "text/plain": [
              "  ulke  boy  kilo  yas cinsiyet\n",
              "0   tr  130    30   10        e\n",
              "1   tr  125    36   11        e\n",
              "2   tr  135    34   10        k\n",
              "3   tr  133    30    9        k\n",
              "4   tr  129    38   12        e"
            ]
          },
          "metadata": {
            "tags": []
          },
          "execution_count": 10
        }
      ]
    },
    {
      "cell_type": "code",
      "metadata": {
        "colab": {
          "base_uri": "https://localhost:8080/",
          "height": 359
        },
        "id": "cZtKkltjwJ__",
        "outputId": "54035718-4f2a-421e-b770-a50c010b0ecd"
      },
      "source": [
        "df.head(10)"
      ],
      "execution_count": 11,
      "outputs": [
        {
          "output_type": "execute_result",
          "data": {
            "text/html": [
              "<div>\n",
              "<style scoped>\n",
              "    .dataframe tbody tr th:only-of-type {\n",
              "        vertical-align: middle;\n",
              "    }\n",
              "\n",
              "    .dataframe tbody tr th {\n",
              "        vertical-align: top;\n",
              "    }\n",
              "\n",
              "    .dataframe thead th {\n",
              "        text-align: right;\n",
              "    }\n",
              "</style>\n",
              "<table border=\"1\" class=\"dataframe\">\n",
              "  <thead>\n",
              "    <tr style=\"text-align: right;\">\n",
              "      <th></th>\n",
              "      <th>ulke</th>\n",
              "      <th>boy</th>\n",
              "      <th>kilo</th>\n",
              "      <th>yas</th>\n",
              "      <th>cinsiyet</th>\n",
              "    </tr>\n",
              "  </thead>\n",
              "  <tbody>\n",
              "    <tr>\n",
              "      <th>0</th>\n",
              "      <td>tr</td>\n",
              "      <td>130</td>\n",
              "      <td>30</td>\n",
              "      <td>10</td>\n",
              "      <td>e</td>\n",
              "    </tr>\n",
              "    <tr>\n",
              "      <th>1</th>\n",
              "      <td>tr</td>\n",
              "      <td>125</td>\n",
              "      <td>36</td>\n",
              "      <td>11</td>\n",
              "      <td>e</td>\n",
              "    </tr>\n",
              "    <tr>\n",
              "      <th>2</th>\n",
              "      <td>tr</td>\n",
              "      <td>135</td>\n",
              "      <td>34</td>\n",
              "      <td>10</td>\n",
              "      <td>k</td>\n",
              "    </tr>\n",
              "    <tr>\n",
              "      <th>3</th>\n",
              "      <td>tr</td>\n",
              "      <td>133</td>\n",
              "      <td>30</td>\n",
              "      <td>9</td>\n",
              "      <td>k</td>\n",
              "    </tr>\n",
              "    <tr>\n",
              "      <th>4</th>\n",
              "      <td>tr</td>\n",
              "      <td>129</td>\n",
              "      <td>38</td>\n",
              "      <td>12</td>\n",
              "      <td>e</td>\n",
              "    </tr>\n",
              "    <tr>\n",
              "      <th>5</th>\n",
              "      <td>tr</td>\n",
              "      <td>180</td>\n",
              "      <td>90</td>\n",
              "      <td>30</td>\n",
              "      <td>e</td>\n",
              "    </tr>\n",
              "    <tr>\n",
              "      <th>6</th>\n",
              "      <td>tr</td>\n",
              "      <td>190</td>\n",
              "      <td>80</td>\n",
              "      <td>25</td>\n",
              "      <td>e</td>\n",
              "    </tr>\n",
              "    <tr>\n",
              "      <th>7</th>\n",
              "      <td>tr</td>\n",
              "      <td>175</td>\n",
              "      <td>90</td>\n",
              "      <td>35</td>\n",
              "      <td>e</td>\n",
              "    </tr>\n",
              "    <tr>\n",
              "      <th>8</th>\n",
              "      <td>tr</td>\n",
              "      <td>177</td>\n",
              "      <td>60</td>\n",
              "      <td>22</td>\n",
              "      <td>k</td>\n",
              "    </tr>\n",
              "    <tr>\n",
              "      <th>9</th>\n",
              "      <td>us</td>\n",
              "      <td>185</td>\n",
              "      <td>105</td>\n",
              "      <td>33</td>\n",
              "      <td>e</td>\n",
              "    </tr>\n",
              "  </tbody>\n",
              "</table>\n",
              "</div>"
            ],
            "text/plain": [
              "  ulke  boy  kilo  yas cinsiyet\n",
              "0   tr  130    30   10        e\n",
              "1   tr  125    36   11        e\n",
              "2   tr  135    34   10        k\n",
              "3   tr  133    30    9        k\n",
              "4   tr  129    38   12        e\n",
              "5   tr  180    90   30        e\n",
              "6   tr  190    80   25        e\n",
              "7   tr  175    90   35        e\n",
              "8   tr  177    60   22        k\n",
              "9   us  185   105   33        e"
            ]
          },
          "metadata": {
            "tags": []
          },
          "execution_count": 11
        }
      ]
    },
    {
      "cell_type": "code",
      "metadata": {
        "colab": {
          "base_uri": "https://localhost:8080/",
          "height": 204
        },
        "id": "44g728G_wixA",
        "outputId": "f8c7cfd8-6ab5-482e-ceb1-0e36c39243c8"
      },
      "source": [
        "df.tail()"
      ],
      "execution_count": 12,
      "outputs": [
        {
          "output_type": "execute_result",
          "data": {
            "text/html": [
              "<div>\n",
              "<style scoped>\n",
              "    .dataframe tbody tr th:only-of-type {\n",
              "        vertical-align: middle;\n",
              "    }\n",
              "\n",
              "    .dataframe tbody tr th {\n",
              "        vertical-align: top;\n",
              "    }\n",
              "\n",
              "    .dataframe thead th {\n",
              "        text-align: right;\n",
              "    }\n",
              "</style>\n",
              "<table border=\"1\" class=\"dataframe\">\n",
              "  <thead>\n",
              "    <tr style=\"text-align: right;\">\n",
              "      <th></th>\n",
              "      <th>ulke</th>\n",
              "      <th>boy</th>\n",
              "      <th>kilo</th>\n",
              "      <th>yas</th>\n",
              "      <th>cinsiyet</th>\n",
              "    </tr>\n",
              "  </thead>\n",
              "  <tbody>\n",
              "    <tr>\n",
              "      <th>17</th>\n",
              "      <td>fr</td>\n",
              "      <td>187</td>\n",
              "      <td>80</td>\n",
              "      <td>27</td>\n",
              "      <td>e</td>\n",
              "    </tr>\n",
              "    <tr>\n",
              "      <th>18</th>\n",
              "      <td>fr</td>\n",
              "      <td>183</td>\n",
              "      <td>88</td>\n",
              "      <td>28</td>\n",
              "      <td>e</td>\n",
              "    </tr>\n",
              "    <tr>\n",
              "      <th>19</th>\n",
              "      <td>fr</td>\n",
              "      <td>159</td>\n",
              "      <td>40</td>\n",
              "      <td>29</td>\n",
              "      <td>k</td>\n",
              "    </tr>\n",
              "    <tr>\n",
              "      <th>20</th>\n",
              "      <td>fr</td>\n",
              "      <td>164</td>\n",
              "      <td>66</td>\n",
              "      <td>32</td>\n",
              "      <td>k</td>\n",
              "    </tr>\n",
              "    <tr>\n",
              "      <th>21</th>\n",
              "      <td>fr</td>\n",
              "      <td>166</td>\n",
              "      <td>56</td>\n",
              "      <td>42</td>\n",
              "      <td>k</td>\n",
              "    </tr>\n",
              "  </tbody>\n",
              "</table>\n",
              "</div>"
            ],
            "text/plain": [
              "   ulke  boy  kilo  yas cinsiyet\n",
              "17   fr  187    80   27        e\n",
              "18   fr  183    88   28        e\n",
              "19   fr  159    40   29        k\n",
              "20   fr  164    66   32        k\n",
              "21   fr  166    56   42        k"
            ]
          },
          "metadata": {
            "tags": []
          },
          "execution_count": 12
        }
      ]
    },
    {
      "cell_type": "code",
      "metadata": {
        "colab": {
          "base_uri": "https://localhost:8080/"
        },
        "id": "wE_mlET8wug3",
        "outputId": "69f6dbc4-d607-4996-aa95-b6699da78ec8"
      },
      "source": [
        "df.info()"
      ],
      "execution_count": 14,
      "outputs": [
        {
          "output_type": "stream",
          "text": [
            "<class 'pandas.core.frame.DataFrame'>\n",
            "RangeIndex: 22 entries, 0 to 21\n",
            "Data columns (total 5 columns):\n",
            " #   Column    Non-Null Count  Dtype \n",
            "---  ------    --------------  ----- \n",
            " 0   ulke      22 non-null     object\n",
            " 1   boy       22 non-null     int64 \n",
            " 2   kilo      22 non-null     int64 \n",
            " 3   yas       22 non-null     int64 \n",
            " 4   cinsiyet  22 non-null     object\n",
            "dtypes: int64(3), object(2)\n",
            "memory usage: 1008.0+ bytes\n"
          ],
          "name": "stdout"
        }
      ]
    },
    {
      "cell_type": "code",
      "metadata": {
        "colab": {
          "base_uri": "https://localhost:8080/"
        },
        "id": "8HzlDlBM4_E3",
        "outputId": "da4d6818-40c9-43c1-cacc-2a454cfa9b79"
      },
      "source": [
        "df.isnull().sum().sort_values(ascending=False)"
      ],
      "execution_count": 17,
      "outputs": [
        {
          "output_type": "execute_result",
          "data": {
            "text/plain": [
              "cinsiyet    0\n",
              "yas         0\n",
              "kilo        0\n",
              "boy         0\n",
              "ulke        0\n",
              "dtype: int64"
            ]
          },
          "metadata": {
            "tags": []
          },
          "execution_count": 17
        }
      ]
    },
    {
      "cell_type": "code",
      "metadata": {
        "id": "on9ChVxF_DwG"
      },
      "source": [
        ""
      ],
      "execution_count": null,
      "outputs": []
    }
  ]
}